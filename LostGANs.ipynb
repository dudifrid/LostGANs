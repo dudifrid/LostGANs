{
 "cells": [
  {
   "cell_type": "code",
   "execution_count": null,
   "id": "ea57b553",
   "metadata": {},
   "outputs": [],
   "source": [
    "%cd LostGANs\n",
    "!pip install -r requirements.txt"
   ]
  },
  {
   "cell_type": "code",
   "execution_count": null,
   "id": "170fbd08",
   "metadata": {},
   "outputs": [],
   "source": [
    "!sed -i 's/\\r$//' scripts/download_coco.sh\n",
    "!bash scripts/download_coco.sh"
   ]
  },
  {
   "cell_type": "code",
   "execution_count": null,
   "id": "8ab5b669",
   "metadata": {},
   "outputs": [],
   "source": [
    "import torch"
   ]
  },
  {
   "cell_type": "code",
   "execution_count": null,
   "id": "5d2129a0",
   "metadata": {},
   "outputs": [],
   "source": [
    "!pip install h5py"
   ]
  },
  {
   "cell_type": "code",
   "execution_count": null,
   "id": "aeefe4bc",
   "metadata": {},
   "outputs": [],
   "source": [
    "# # for restoring after re-booting\n",
    "# %cd LostGANs\n",
    "# !pip install -r requirements.txt\n",
    "# !pip install h5py"
   ]
  },
  {
   "cell_type": "code",
   "execution_count": null,
   "id": "8942abf6",
   "metadata": {},
   "outputs": [],
   "source": [
    "!python my_test.py --dataset coco --model_path pretrained_model/netGv2_coco128.pth --batch_size 2 --total_epoch 2 --out_path outputs/"
   ]
  },
  {
   "cell_type": "markdown",
   "id": "fbe61718",
   "metadata": {},
   "source": [
    "**Just a reminder to create a folder named \"pretrained_model\" and upload from G: drive to them the files, and wait for them until \"last modified\" will be \"x minutes ago\" rather than \"just now\" which means it keeps loading**\n",
    "\n",
    "**Also, changes in test.py & train.py & rcnn_discriminator.py shuold also be done.**"
   ]
  },
  {
   "cell_type": "code",
   "execution_count": null,
   "id": "0a1ffffa",
   "metadata": {},
   "outputs": [],
   "source": [
    "!python train.py --dataset coco --batch_size 2 --total_epoch 1 --out_path outputs/"
   ]
  },
  {
   "cell_type": "code",
   "execution_count": null,
   "id": "eb5a3fe2",
   "metadata": {},
   "outputs": [],
   "source": [
    "import matplotlib.pyplot as plt\n",
    "import cv2\n",
    "x = cv2.imread('./samples/coco/sample_80.jpg')\n",
    "plt.imshow(x)"
   ]
  },
  {
   "cell_type": "code",
   "execution_count": null,
   "id": "2d489a02",
   "metadata": {},
   "outputs": [],
   "source": [
    "!python test.py --dataset coco --model_path pretrained_model/netGv2_coco128.pth --sample_path samples/coco/"
   ]
  }
 ],
 "metadata": {
  "kernelspec": {
   "display_name": "conda_amazonei_pytorch_latest_p37",
   "language": "python",
   "name": "conda_amazonei_pytorch_latest_p37"
  },
  "language_info": {
   "codemirror_mode": {
    "name": "ipython",
    "version": 3
   },
   "file_extension": ".py",
   "mimetype": "text/x-python",
   "name": "python",
   "nbconvert_exporter": "python",
   "pygments_lexer": "ipython3",
   "version": "3.7.12"
  }
 },
 "nbformat": 4,
 "nbformat_minor": 5
}
